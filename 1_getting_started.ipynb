{
  "cells": [
    {
      "cell_type": "markdown",
      "metadata": {
        "id": "view-in-github",
        "colab_type": "text"
      },
      "source": [
        "<a href=\"https://colab.research.google.com/github/romain-daversa/tuto-sb3-rl/blob/main/1_getting_started.ipynb\" target=\"_parent\"><img src=\"https://colab.research.google.com/assets/colab-badge.svg\" alt=\"Open In Colab\"/></a>"
      ]
    },
    {
      "cell_type": "markdown",
      "metadata": {
        "id": "hyyN-2qyK_T2"
      },
      "source": [
        "# Stable Baselines3 Tutorial - Getting Started\n",
        "\n",
        "Github repo: https://github.com/araffin/rl-tutorial-jnrr19/tree/sb3/\n",
        "\n",
        "Stable-Baselines3: https://github.com/DLR-RM/stable-baselines3\n",
        "\n",
        "Documentation: https://stable-baselines3.readthedocs.io/en/master/\n",
        "\n",
        "SB3-Contrib: https://github.com/Stable-Baselines-Team/stable-baselines3-contrib\n",
        "\n",
        "RL Baselines3 zoo: https://github.com/DLR-RM/rl-baselines3-zoo\n",
        "\n",
        "[RL Baselines3 Zoo](https://github.com/DLR-RM/rl-baselines3-zoo) is a training framework for Reinforcement Learning (RL), using Stable Baselines3.\n",
        "\n",
        "It provides scripts for training, evaluating agents, tuning hyperparameters, plotting results and recording videos.\n",
        "\n",
        "\n",
        "## Introduction\n",
        "\n",
        "In this notebook, you will learn the basics for using stable baselines library: how to create a RL model, train it and evaluate it. Because all algorithms share the same interface, we will see how simple it is to switch from one algorithm to another.\n",
        "\n",
        "\n",
        "## Install Dependencies and Stable Baselines3 Using Pip\n",
        "\n",
        "List of full dependencies can be found in the [README](https://github.com/DLR-RM/stable-baselines3).\n",
        "\n",
        "\n",
        "```\n",
        "pip install stable-baselines3[extra]\n",
        "```"
      ]
    },
    {
      "cell_type": "code",
      "execution_count": 1,
      "metadata": {
        "id": "vP2To7isIzEy"
      },
      "outputs": [],
      "source": [
        "# for autoformatting\n",
        "# %load_ext jupyter_black"
      ]
    },
    {
      "cell_type": "code",
      "execution_count": 2,
      "metadata": {
        "colab": {
          "base_uri": "https://localhost:8080/"
        },
        "id": "gWskDE2c9WoN",
        "outputId": "6ab6c767-f78c-4446-b5cd-87adf5deac2e",
        "collapsed": true
      },
      "outputs": [
        {
          "output_type": "stream",
          "name": "stdout",
          "text": [
            "Reading package lists... Done\n",
            "Building dependency tree... Done\n",
            "Reading state information... Done\n",
            "ffmpeg is already the newest version (7:4.4.2-0ubuntu0.22.04.1).\n",
            "The following additional packages will be installed:\n",
            "  freeglut3 libegl-dev libfontenc1 libgl-dev libgl1-mesa-dev libgles-dev libgles1 libglu1-mesa\n",
            "  libglu1-mesa-dev libglvnd-core-dev libglvnd-dev libglx-dev libice-dev libopengl-dev libsm-dev\n",
            "  libxfont2 libxkbfile1 libxt-dev x11-xkb-utils xfonts-base xfonts-encodings xfonts-utils\n",
            "  xserver-common\n",
            "Suggested packages:\n",
            "  libice-doc libsm-doc libxt-doc\n",
            "The following NEW packages will be installed:\n",
            "  freeglut3 freeglut3-dev libegl-dev libfontenc1 libgl-dev libgl1-mesa-dev libgles-dev libgles1\n",
            "  libglu1-mesa libglu1-mesa-dev libglvnd-core-dev libglvnd-dev libglx-dev libice-dev libopengl-dev\n",
            "  libsm-dev libxfont2 libxkbfile1 libxt-dev x11-xkb-utils xfonts-base xfonts-encodings xfonts-utils\n",
            "  xserver-common xvfb\n",
            "0 upgraded, 25 newly installed, 0 to remove and 20 not upgraded.\n",
            "Need to get 9,076 kB of archives.\n",
            "After this operation, 18.7 MB of additional disk space will be used.\n",
            "Get:1 http://archive.ubuntu.com/ubuntu jammy/universe amd64 freeglut3 amd64 2.8.1-6 [74.0 kB]\n",
            "Get:2 http://archive.ubuntu.com/ubuntu jammy/main amd64 libglx-dev amd64 1.4.0-1 [14.1 kB]\n",
            "Get:3 http://archive.ubuntu.com/ubuntu jammy/main amd64 libgl-dev amd64 1.4.0-1 [101 kB]\n",
            "Get:4 http://archive.ubuntu.com/ubuntu jammy/main amd64 libglvnd-core-dev amd64 1.4.0-1 [12.7 kB]\n",
            "Get:5 http://archive.ubuntu.com/ubuntu jammy/main amd64 libegl-dev amd64 1.4.0-1 [18.0 kB]\n",
            "Get:6 http://archive.ubuntu.com/ubuntu jammy/main amd64 libgles1 amd64 1.4.0-1 [11.5 kB]\n",
            "Get:7 http://archive.ubuntu.com/ubuntu jammy/main amd64 libgles-dev amd64 1.4.0-1 [49.4 kB]\n",
            "Get:8 http://archive.ubuntu.com/ubuntu jammy/main amd64 libopengl-dev amd64 1.4.0-1 [3,400 B]\n",
            "Get:9 http://archive.ubuntu.com/ubuntu jammy/main amd64 libglvnd-dev amd64 1.4.0-1 [3,162 B]\n",
            "Get:10 http://archive.ubuntu.com/ubuntu jammy-updates/main amd64 libgl1-mesa-dev amd64 23.2.1-1ubuntu3.1~22.04.3 [6,848 B]\n",
            "Get:11 http://archive.ubuntu.com/ubuntu jammy/main amd64 libglu1-mesa amd64 9.0.2-1 [145 kB]\n",
            "Get:12 http://archive.ubuntu.com/ubuntu jammy/main amd64 libglu1-mesa-dev amd64 9.0.2-1 [231 kB]\n",
            "Get:13 http://archive.ubuntu.com/ubuntu jammy/main amd64 libice-dev amd64 2:1.0.10-1build2 [51.4 kB]\n",
            "Get:14 http://archive.ubuntu.com/ubuntu jammy/main amd64 libsm-dev amd64 2:1.2.3-1build2 [18.1 kB]\n",
            "Get:15 http://archive.ubuntu.com/ubuntu jammy/main amd64 libxt-dev amd64 1:1.2.1-1 [396 kB]\n",
            "Get:16 http://archive.ubuntu.com/ubuntu jammy/universe amd64 freeglut3-dev amd64 2.8.1-6 [126 kB]\n",
            "Get:17 http://archive.ubuntu.com/ubuntu jammy/main amd64 libfontenc1 amd64 1:1.1.4-1build3 [14.7 kB]\n",
            "Get:18 http://archive.ubuntu.com/ubuntu jammy/main amd64 libxfont2 amd64 1:2.0.5-1build1 [94.5 kB]\n",
            "Get:19 http://archive.ubuntu.com/ubuntu jammy/main amd64 libxkbfile1 amd64 1:1.1.0-1build3 [71.8 kB]\n",
            "Get:20 http://archive.ubuntu.com/ubuntu jammy/main amd64 x11-xkb-utils amd64 7.7+5build4 [172 kB]\n",
            "Get:21 http://archive.ubuntu.com/ubuntu jammy/main amd64 xfonts-encodings all 1:1.0.5-0ubuntu2 [578 kB]\n",
            "Get:22 http://archive.ubuntu.com/ubuntu jammy/main amd64 xfonts-utils amd64 1:7.7+6build2 [94.6 kB]\n",
            "Get:23 http://archive.ubuntu.com/ubuntu jammy/main amd64 xfonts-base all 1:1.0.5 [5,896 kB]\n",
            "Get:24 http://archive.ubuntu.com/ubuntu jammy-updates/main amd64 xserver-common all 2:21.1.4-2ubuntu1.7~22.04.12 [28.7 kB]\n",
            "Get:25 http://archive.ubuntu.com/ubuntu jammy-updates/universe amd64 xvfb amd64 2:21.1.4-2ubuntu1.7~22.04.12 [864 kB]\n",
            "Fetched 9,076 kB in 1s (10.6 MB/s)\n",
            "Selecting previously unselected package freeglut3:amd64.\n",
            "(Reading database ... 124926 files and directories currently installed.)\n",
            "Preparing to unpack .../00-freeglut3_2.8.1-6_amd64.deb ...\n",
            "Unpacking freeglut3:amd64 (2.8.1-6) ...\n",
            "Selecting previously unselected package libglx-dev:amd64.\n",
            "Preparing to unpack .../01-libglx-dev_1.4.0-1_amd64.deb ...\n",
            "Unpacking libglx-dev:amd64 (1.4.0-1) ...\n",
            "Selecting previously unselected package libgl-dev:amd64.\n",
            "Preparing to unpack .../02-libgl-dev_1.4.0-1_amd64.deb ...\n",
            "Unpacking libgl-dev:amd64 (1.4.0-1) ...\n",
            "Selecting previously unselected package libglvnd-core-dev:amd64.\n",
            "Preparing to unpack .../03-libglvnd-core-dev_1.4.0-1_amd64.deb ...\n",
            "Unpacking libglvnd-core-dev:amd64 (1.4.0-1) ...\n",
            "Selecting previously unselected package libegl-dev:amd64.\n",
            "Preparing to unpack .../04-libegl-dev_1.4.0-1_amd64.deb ...\n",
            "Unpacking libegl-dev:amd64 (1.4.0-1) ...\n",
            "Selecting previously unselected package libgles1:amd64.\n",
            "Preparing to unpack .../05-libgles1_1.4.0-1_amd64.deb ...\n",
            "Unpacking libgles1:amd64 (1.4.0-1) ...\n",
            "Selecting previously unselected package libgles-dev:amd64.\n",
            "Preparing to unpack .../06-libgles-dev_1.4.0-1_amd64.deb ...\n",
            "Unpacking libgles-dev:amd64 (1.4.0-1) ...\n",
            "Selecting previously unselected package libopengl-dev:amd64.\n",
            "Preparing to unpack .../07-libopengl-dev_1.4.0-1_amd64.deb ...\n",
            "Unpacking libopengl-dev:amd64 (1.4.0-1) ...\n",
            "Selecting previously unselected package libglvnd-dev:amd64.\n",
            "Preparing to unpack .../08-libglvnd-dev_1.4.0-1_amd64.deb ...\n",
            "Unpacking libglvnd-dev:amd64 (1.4.0-1) ...\n",
            "Selecting previously unselected package libgl1-mesa-dev:amd64.\n",
            "Preparing to unpack .../09-libgl1-mesa-dev_23.2.1-1ubuntu3.1~22.04.3_amd64.deb ...\n",
            "Unpacking libgl1-mesa-dev:amd64 (23.2.1-1ubuntu3.1~22.04.3) ...\n",
            "Selecting previously unselected package libglu1-mesa:amd64.\n",
            "Preparing to unpack .../10-libglu1-mesa_9.0.2-1_amd64.deb ...\n",
            "Unpacking libglu1-mesa:amd64 (9.0.2-1) ...\n",
            "Selecting previously unselected package libglu1-mesa-dev:amd64.\n",
            "Preparing to unpack .../11-libglu1-mesa-dev_9.0.2-1_amd64.deb ...\n",
            "Unpacking libglu1-mesa-dev:amd64 (9.0.2-1) ...\n",
            "Selecting previously unselected package libice-dev:amd64.\n",
            "Preparing to unpack .../12-libice-dev_2%3a1.0.10-1build2_amd64.deb ...\n",
            "Unpacking libice-dev:amd64 (2:1.0.10-1build2) ...\n",
            "Selecting previously unselected package libsm-dev:amd64.\n",
            "Preparing to unpack .../13-libsm-dev_2%3a1.2.3-1build2_amd64.deb ...\n",
            "Unpacking libsm-dev:amd64 (2:1.2.3-1build2) ...\n",
            "Selecting previously unselected package libxt-dev:amd64.\n",
            "Preparing to unpack .../14-libxt-dev_1%3a1.2.1-1_amd64.deb ...\n",
            "Unpacking libxt-dev:amd64 (1:1.2.1-1) ...\n",
            "Selecting previously unselected package freeglut3-dev:amd64.\n",
            "Preparing to unpack .../15-freeglut3-dev_2.8.1-6_amd64.deb ...\n",
            "Unpacking freeglut3-dev:amd64 (2.8.1-6) ...\n",
            "Selecting previously unselected package libfontenc1:amd64.\n",
            "Preparing to unpack .../16-libfontenc1_1%3a1.1.4-1build3_amd64.deb ...\n",
            "Unpacking libfontenc1:amd64 (1:1.1.4-1build3) ...\n",
            "Selecting previously unselected package libxfont2:amd64.\n",
            "Preparing to unpack .../17-libxfont2_1%3a2.0.5-1build1_amd64.deb ...\n",
            "Unpacking libxfont2:amd64 (1:2.0.5-1build1) ...\n",
            "Selecting previously unselected package libxkbfile1:amd64.\n",
            "Preparing to unpack .../18-libxkbfile1_1%3a1.1.0-1build3_amd64.deb ...\n",
            "Unpacking libxkbfile1:amd64 (1:1.1.0-1build3) ...\n",
            "Selecting previously unselected package x11-xkb-utils.\n",
            "Preparing to unpack .../19-x11-xkb-utils_7.7+5build4_amd64.deb ...\n",
            "Unpacking x11-xkb-utils (7.7+5build4) ...\n",
            "Selecting previously unselected package xfonts-encodings.\n",
            "Preparing to unpack .../20-xfonts-encodings_1%3a1.0.5-0ubuntu2_all.deb ...\n",
            "Unpacking xfonts-encodings (1:1.0.5-0ubuntu2) ...\n",
            "Selecting previously unselected package xfonts-utils.\n",
            "Preparing to unpack .../21-xfonts-utils_1%3a7.7+6build2_amd64.deb ...\n",
            "Unpacking xfonts-utils (1:7.7+6build2) ...\n",
            "Selecting previously unselected package xfonts-base.\n",
            "Preparing to unpack .../22-xfonts-base_1%3a1.0.5_all.deb ...\n",
            "Unpacking xfonts-base (1:1.0.5) ...\n",
            "Selecting previously unselected package xserver-common.\n",
            "Preparing to unpack .../23-xserver-common_2%3a21.1.4-2ubuntu1.7~22.04.12_all.deb ...\n",
            "Unpacking xserver-common (2:21.1.4-2ubuntu1.7~22.04.12) ...\n",
            "Selecting previously unselected package xvfb.\n",
            "Preparing to unpack .../24-xvfb_2%3a21.1.4-2ubuntu1.7~22.04.12_amd64.deb ...\n",
            "Unpacking xvfb (2:21.1.4-2ubuntu1.7~22.04.12) ...\n",
            "Setting up freeglut3:amd64 (2.8.1-6) ...\n",
            "Setting up libglvnd-core-dev:amd64 (1.4.0-1) ...\n",
            "Setting up libice-dev:amd64 (2:1.0.10-1build2) ...\n",
            "Setting up libsm-dev:amd64 (2:1.2.3-1build2) ...\n",
            "Setting up libfontenc1:amd64 (1:1.1.4-1build3) ...\n",
            "Setting up libxt-dev:amd64 (1:1.2.1-1) ...\n",
            "Setting up libgles1:amd64 (1.4.0-1) ...\n",
            "Setting up xfonts-encodings (1:1.0.5-0ubuntu2) ...\n",
            "Setting up libglx-dev:amd64 (1.4.0-1) ...\n",
            "Setting up libglu1-mesa:amd64 (9.0.2-1) ...\n",
            "Setting up libxkbfile1:amd64 (1:1.1.0-1build3) ...\n",
            "Setting up libopengl-dev:amd64 (1.4.0-1) ...\n",
            "Setting up libxfont2:amd64 (1:2.0.5-1build1) ...\n",
            "Setting up libgl-dev:amd64 (1.4.0-1) ...\n",
            "Setting up libegl-dev:amd64 (1.4.0-1) ...\n",
            "Setting up x11-xkb-utils (7.7+5build4) ...\n",
            "Setting up xfonts-utils (1:7.7+6build2) ...\n",
            "Setting up xfonts-base (1:1.0.5) ...\n",
            "Setting up libglu1-mesa-dev:amd64 (9.0.2-1) ...\n",
            "Setting up xserver-common (2:21.1.4-2ubuntu1.7~22.04.12) ...\n",
            "Setting up libgles-dev:amd64 (1.4.0-1) ...\n",
            "Setting up xvfb (2:21.1.4-2ubuntu1.7~22.04.12) ...\n",
            "Setting up libglvnd-dev:amd64 (1.4.0-1) ...\n",
            "Setting up libgl1-mesa-dev:amd64 (23.2.1-1ubuntu3.1~22.04.3) ...\n",
            "Setting up freeglut3-dev:amd64 (2.8.1-6) ...\n",
            "Processing triggers for libc-bin (2.35-0ubuntu3.8) ...\n",
            "/sbin/ldconfig.real: /usr/local/lib/libumf.so.0 is not a symbolic link\n",
            "\n",
            "/sbin/ldconfig.real: /usr/local/lib/libhwloc.so.15 is not a symbolic link\n",
            "\n",
            "/sbin/ldconfig.real: /usr/local/lib/libtbb.so.12 is not a symbolic link\n",
            "\n",
            "/sbin/ldconfig.real: /usr/local/lib/libtbbmalloc.so.2 is not a symbolic link\n",
            "\n",
            "/sbin/ldconfig.real: /usr/local/lib/libtcm.so.1 is not a symbolic link\n",
            "\n",
            "/sbin/ldconfig.real: /usr/local/lib/libtbbbind.so.3 is not a symbolic link\n",
            "\n",
            "/sbin/ldconfig.real: /usr/local/lib/libtbbbind_2_0.so.3 is not a symbolic link\n",
            "\n",
            "/sbin/ldconfig.real: /usr/local/lib/libur_adapter_opencl.so.0 is not a symbolic link\n",
            "\n",
            "/sbin/ldconfig.real: /usr/local/lib/libur_loader.so.0 is not a symbolic link\n",
            "\n",
            "/sbin/ldconfig.real: /usr/local/lib/libur_adapter_level_zero.so.0 is not a symbolic link\n",
            "\n",
            "/sbin/ldconfig.real: /usr/local/lib/libtcm_debug.so.1 is not a symbolic link\n",
            "\n",
            "/sbin/ldconfig.real: /usr/local/lib/libtbbbind_2_5.so.3 is not a symbolic link\n",
            "\n",
            "/sbin/ldconfig.real: /usr/local/lib/libtbbmalloc_proxy.so.2 is not a symbolic link\n",
            "\n",
            "Processing triggers for man-db (2.10.2-1) ...\n",
            "Processing triggers for fontconfig (2.13.1-4.2ubuntu5) ...\n",
            "Collecting stable-baselines3>=2.0.0a4 (from stable-baselines3[extra]>=2.0.0a4)\n",
            "  Downloading stable_baselines3-2.6.0a1-py3-none-any.whl.metadata (4.8 kB)\n",
            "Requirement already satisfied: gymnasium<1.1.0,>=0.29.1 in /usr/local/lib/python3.11/dist-packages (from stable-baselines3>=2.0.0a4->stable-baselines3[extra]>=2.0.0a4) (1.0.0)\n",
            "Requirement already satisfied: numpy<3.0,>=1.20 in /usr/local/lib/python3.11/dist-packages (from stable-baselines3>=2.0.0a4->stable-baselines3[extra]>=2.0.0a4) (1.26.4)\n",
            "Requirement already satisfied: torch<3.0,>=2.3 in /usr/local/lib/python3.11/dist-packages (from stable-baselines3>=2.0.0a4->stable-baselines3[extra]>=2.0.0a4) (2.5.1+cu124)\n",
            "Requirement already satisfied: cloudpickle in /usr/local/lib/python3.11/dist-packages (from stable-baselines3>=2.0.0a4->stable-baselines3[extra]>=2.0.0a4) (3.1.1)\n",
            "Requirement already satisfied: pandas in /usr/local/lib/python3.11/dist-packages (from stable-baselines3>=2.0.0a4->stable-baselines3[extra]>=2.0.0a4) (2.2.2)\n",
            "Requirement already satisfied: matplotlib in /usr/local/lib/python3.11/dist-packages (from stable-baselines3>=2.0.0a4->stable-baselines3[extra]>=2.0.0a4) (3.10.0)\n",
            "Requirement already satisfied: opencv-python in /usr/local/lib/python3.11/dist-packages (from stable-baselines3[extra]>=2.0.0a4) (4.11.0.86)\n",
            "Requirement already satisfied: pygame in /usr/local/lib/python3.11/dist-packages (from stable-baselines3[extra]>=2.0.0a4) (2.6.1)\n",
            "Requirement already satisfied: tensorboard>=2.9.1 in /usr/local/lib/python3.11/dist-packages (from stable-baselines3[extra]>=2.0.0a4) (2.18.0)\n",
            "Requirement already satisfied: psutil in /usr/local/lib/python3.11/dist-packages (from stable-baselines3[extra]>=2.0.0a4) (5.9.5)\n",
            "Requirement already satisfied: tqdm in /usr/local/lib/python3.11/dist-packages (from stable-baselines3[extra]>=2.0.0a4) (4.67.1)\n",
            "Requirement already satisfied: rich in /usr/local/lib/python3.11/dist-packages (from stable-baselines3[extra]>=2.0.0a4) (13.9.4)\n",
            "Requirement already satisfied: ale-py>=0.9.0 in /usr/local/lib/python3.11/dist-packages (from stable-baselines3[extra]>=2.0.0a4) (0.10.1)\n",
            "Requirement already satisfied: pillow in /usr/local/lib/python3.11/dist-packages (from stable-baselines3[extra]>=2.0.0a4) (11.1.0)\n",
            "Requirement already satisfied: typing-extensions>=4.3.0 in /usr/local/lib/python3.11/dist-packages (from gymnasium<1.1.0,>=0.29.1->stable-baselines3>=2.0.0a4->stable-baselines3[extra]>=2.0.0a4) (4.12.2)\n",
            "Requirement already satisfied: farama-notifications>=0.0.1 in /usr/local/lib/python3.11/dist-packages (from gymnasium<1.1.0,>=0.29.1->stable-baselines3>=2.0.0a4->stable-baselines3[extra]>=2.0.0a4) (0.0.4)\n",
            "Requirement already satisfied: absl-py>=0.4 in /usr/local/lib/python3.11/dist-packages (from tensorboard>=2.9.1->stable-baselines3[extra]>=2.0.0a4) (1.4.0)\n",
            "Requirement already satisfied: grpcio>=1.48.2 in /usr/local/lib/python3.11/dist-packages (from tensorboard>=2.9.1->stable-baselines3[extra]>=2.0.0a4) (1.70.0)\n",
            "Requirement already satisfied: markdown>=2.6.8 in /usr/local/lib/python3.11/dist-packages (from tensorboard>=2.9.1->stable-baselines3[extra]>=2.0.0a4) (3.7)\n",
            "Requirement already satisfied: packaging in /usr/local/lib/python3.11/dist-packages (from tensorboard>=2.9.1->stable-baselines3[extra]>=2.0.0a4) (24.2)\n",
            "Requirement already satisfied: protobuf!=4.24.0,>=3.19.6 in /usr/local/lib/python3.11/dist-packages (from tensorboard>=2.9.1->stable-baselines3[extra]>=2.0.0a4) (4.25.6)\n",
            "Requirement already satisfied: setuptools>=41.0.0 in /usr/local/lib/python3.11/dist-packages (from tensorboard>=2.9.1->stable-baselines3[extra]>=2.0.0a4) (75.1.0)\n",
            "Requirement already satisfied: six>1.9 in /usr/local/lib/python3.11/dist-packages (from tensorboard>=2.9.1->stable-baselines3[extra]>=2.0.0a4) (1.17.0)\n",
            "Requirement already satisfied: tensorboard-data-server<0.8.0,>=0.7.0 in /usr/local/lib/python3.11/dist-packages (from tensorboard>=2.9.1->stable-baselines3[extra]>=2.0.0a4) (0.7.2)\n",
            "Requirement already satisfied: werkzeug>=1.0.1 in /usr/local/lib/python3.11/dist-packages (from tensorboard>=2.9.1->stable-baselines3[extra]>=2.0.0a4) (3.1.3)\n",
            "Requirement already satisfied: filelock in /usr/local/lib/python3.11/dist-packages (from torch<3.0,>=2.3->stable-baselines3>=2.0.0a4->stable-baselines3[extra]>=2.0.0a4) (3.17.0)\n",
            "Requirement already satisfied: networkx in /usr/local/lib/python3.11/dist-packages (from torch<3.0,>=2.3->stable-baselines3>=2.0.0a4->stable-baselines3[extra]>=2.0.0a4) (3.4.2)\n",
            "Requirement already satisfied: jinja2 in /usr/local/lib/python3.11/dist-packages (from torch<3.0,>=2.3->stable-baselines3>=2.0.0a4->stable-baselines3[extra]>=2.0.0a4) (3.1.5)\n",
            "Requirement already satisfied: fsspec in /usr/local/lib/python3.11/dist-packages (from torch<3.0,>=2.3->stable-baselines3>=2.0.0a4->stable-baselines3[extra]>=2.0.0a4) (2024.10.0)\n",
            "Collecting nvidia-cuda-nvrtc-cu12==12.4.127 (from torch<3.0,>=2.3->stable-baselines3>=2.0.0a4->stable-baselines3[extra]>=2.0.0a4)\n",
            "  Downloading nvidia_cuda_nvrtc_cu12-12.4.127-py3-none-manylinux2014_x86_64.whl.metadata (1.5 kB)\n",
            "Collecting nvidia-cuda-runtime-cu12==12.4.127 (from torch<3.0,>=2.3->stable-baselines3>=2.0.0a4->stable-baselines3[extra]>=2.0.0a4)\n",
            "  Downloading nvidia_cuda_runtime_cu12-12.4.127-py3-none-manylinux2014_x86_64.whl.metadata (1.5 kB)\n",
            "Collecting nvidia-cuda-cupti-cu12==12.4.127 (from torch<3.0,>=2.3->stable-baselines3>=2.0.0a4->stable-baselines3[extra]>=2.0.0a4)\n",
            "  Downloading nvidia_cuda_cupti_cu12-12.4.127-py3-none-manylinux2014_x86_64.whl.metadata (1.6 kB)\n",
            "Collecting nvidia-cudnn-cu12==9.1.0.70 (from torch<3.0,>=2.3->stable-baselines3>=2.0.0a4->stable-baselines3[extra]>=2.0.0a4)\n",
            "  Downloading nvidia_cudnn_cu12-9.1.0.70-py3-none-manylinux2014_x86_64.whl.metadata (1.6 kB)\n",
            "Collecting nvidia-cublas-cu12==12.4.5.8 (from torch<3.0,>=2.3->stable-baselines3>=2.0.0a4->stable-baselines3[extra]>=2.0.0a4)\n",
            "  Downloading nvidia_cublas_cu12-12.4.5.8-py3-none-manylinux2014_x86_64.whl.metadata (1.5 kB)\n",
            "Collecting nvidia-cufft-cu12==11.2.1.3 (from torch<3.0,>=2.3->stable-baselines3>=2.0.0a4->stable-baselines3[extra]>=2.0.0a4)\n",
            "  Downloading nvidia_cufft_cu12-11.2.1.3-py3-none-manylinux2014_x86_64.whl.metadata (1.5 kB)\n",
            "Collecting nvidia-curand-cu12==10.3.5.147 (from torch<3.0,>=2.3->stable-baselines3>=2.0.0a4->stable-baselines3[extra]>=2.0.0a4)\n",
            "  Downloading nvidia_curand_cu12-10.3.5.147-py3-none-manylinux2014_x86_64.whl.metadata (1.5 kB)\n",
            "Collecting nvidia-cusolver-cu12==11.6.1.9 (from torch<3.0,>=2.3->stable-baselines3>=2.0.0a4->stable-baselines3[extra]>=2.0.0a4)\n",
            "  Downloading nvidia_cusolver_cu12-11.6.1.9-py3-none-manylinux2014_x86_64.whl.metadata (1.6 kB)\n",
            "Collecting nvidia-cusparse-cu12==12.3.1.170 (from torch<3.0,>=2.3->stable-baselines3>=2.0.0a4->stable-baselines3[extra]>=2.0.0a4)\n",
            "  Downloading nvidia_cusparse_cu12-12.3.1.170-py3-none-manylinux2014_x86_64.whl.metadata (1.6 kB)\n",
            "Requirement already satisfied: nvidia-nccl-cu12==2.21.5 in /usr/local/lib/python3.11/dist-packages (from torch<3.0,>=2.3->stable-baselines3>=2.0.0a4->stable-baselines3[extra]>=2.0.0a4) (2.21.5)\n",
            "Requirement already satisfied: nvidia-nvtx-cu12==12.4.127 in /usr/local/lib/python3.11/dist-packages (from torch<3.0,>=2.3->stable-baselines3>=2.0.0a4->stable-baselines3[extra]>=2.0.0a4) (12.4.127)\n",
            "Collecting nvidia-nvjitlink-cu12==12.4.127 (from torch<3.0,>=2.3->stable-baselines3>=2.0.0a4->stable-baselines3[extra]>=2.0.0a4)\n",
            "  Downloading nvidia_nvjitlink_cu12-12.4.127-py3-none-manylinux2014_x86_64.whl.metadata (1.5 kB)\n",
            "Requirement already satisfied: triton==3.1.0 in /usr/local/lib/python3.11/dist-packages (from torch<3.0,>=2.3->stable-baselines3>=2.0.0a4->stable-baselines3[extra]>=2.0.0a4) (3.1.0)\n",
            "Requirement already satisfied: sympy==1.13.1 in /usr/local/lib/python3.11/dist-packages (from torch<3.0,>=2.3->stable-baselines3>=2.0.0a4->stable-baselines3[extra]>=2.0.0a4) (1.13.1)\n",
            "Requirement already satisfied: mpmath<1.4,>=1.1.0 in /usr/local/lib/python3.11/dist-packages (from sympy==1.13.1->torch<3.0,>=2.3->stable-baselines3>=2.0.0a4->stable-baselines3[extra]>=2.0.0a4) (1.3.0)\n",
            "Requirement already satisfied: contourpy>=1.0.1 in /usr/local/lib/python3.11/dist-packages (from matplotlib->stable-baselines3>=2.0.0a4->stable-baselines3[extra]>=2.0.0a4) (1.3.1)\n",
            "Requirement already satisfied: cycler>=0.10 in /usr/local/lib/python3.11/dist-packages (from matplotlib->stable-baselines3>=2.0.0a4->stable-baselines3[extra]>=2.0.0a4) (0.12.1)\n",
            "Requirement already satisfied: fonttools>=4.22.0 in /usr/local/lib/python3.11/dist-packages (from matplotlib->stable-baselines3>=2.0.0a4->stable-baselines3[extra]>=2.0.0a4) (4.55.8)\n",
            "Requirement already satisfied: kiwisolver>=1.3.1 in /usr/local/lib/python3.11/dist-packages (from matplotlib->stable-baselines3>=2.0.0a4->stable-baselines3[extra]>=2.0.0a4) (1.4.8)\n",
            "Requirement already satisfied: pyparsing>=2.3.1 in /usr/local/lib/python3.11/dist-packages (from matplotlib->stable-baselines3>=2.0.0a4->stable-baselines3[extra]>=2.0.0a4) (3.2.1)\n",
            "Requirement already satisfied: python-dateutil>=2.7 in /usr/local/lib/python3.11/dist-packages (from matplotlib->stable-baselines3>=2.0.0a4->stable-baselines3[extra]>=2.0.0a4) (2.8.2)\n",
            "Requirement already satisfied: pytz>=2020.1 in /usr/local/lib/python3.11/dist-packages (from pandas->stable-baselines3>=2.0.0a4->stable-baselines3[extra]>=2.0.0a4) (2025.1)\n",
            "Requirement already satisfied: tzdata>=2022.7 in /usr/local/lib/python3.11/dist-packages (from pandas->stable-baselines3>=2.0.0a4->stable-baselines3[extra]>=2.0.0a4) (2025.1)\n",
            "Requirement already satisfied: markdown-it-py>=2.2.0 in /usr/local/lib/python3.11/dist-packages (from rich->stable-baselines3[extra]>=2.0.0a4) (3.0.0)\n",
            "Requirement already satisfied: pygments<3.0.0,>=2.13.0 in /usr/local/lib/python3.11/dist-packages (from rich->stable-baselines3[extra]>=2.0.0a4) (2.18.0)\n",
            "Requirement already satisfied: mdurl~=0.1 in /usr/local/lib/python3.11/dist-packages (from markdown-it-py>=2.2.0->rich->stable-baselines3[extra]>=2.0.0a4) (0.1.2)\n",
            "Requirement already satisfied: MarkupSafe>=2.1.1 in /usr/local/lib/python3.11/dist-packages (from werkzeug>=1.0.1->tensorboard>=2.9.1->stable-baselines3[extra]>=2.0.0a4) (3.0.2)\n",
            "Downloading stable_baselines3-2.6.0a1-py3-none-any.whl (184 kB)\n",
            "\u001b[2K   \u001b[90m━━━━━━━━━━━━━━━━━━━━━━━━━━━━━━━━━━━━━━━━\u001b[0m \u001b[32m184.5/184.5 kB\u001b[0m \u001b[31m5.9 MB/s\u001b[0m eta \u001b[36m0:00:00\u001b[0m\n",
            "\u001b[?25hDownloading nvidia_cublas_cu12-12.4.5.8-py3-none-manylinux2014_x86_64.whl (363.4 MB)\n",
            "\u001b[2K   \u001b[90m━━━━━━━━━━━━━━━━━━━━━━━━━━━━━━━━━━━━━━━━\u001b[0m \u001b[32m363.4/363.4 MB\u001b[0m \u001b[31m4.3 MB/s\u001b[0m eta \u001b[36m0:00:00\u001b[0m\n",
            "\u001b[?25hDownloading nvidia_cuda_cupti_cu12-12.4.127-py3-none-manylinux2014_x86_64.whl (13.8 MB)\n",
            "\u001b[2K   \u001b[90m━━━━━━━━━━━━━━━━━━━━━━━━━━━━━━━━━━━━━━━━\u001b[0m \u001b[32m13.8/13.8 MB\u001b[0m \u001b[31m107.4 MB/s\u001b[0m eta \u001b[36m0:00:00\u001b[0m\n",
            "\u001b[?25hDownloading nvidia_cuda_nvrtc_cu12-12.4.127-py3-none-manylinux2014_x86_64.whl (24.6 MB)\n",
            "\u001b[2K   \u001b[90m━━━━━━━━━━━━━━━━━━━━━━━━━━━━━━━━━━━━━━━━\u001b[0m \u001b[32m24.6/24.6 MB\u001b[0m \u001b[31m84.6 MB/s\u001b[0m eta \u001b[36m0:00:00\u001b[0m\n",
            "\u001b[?25hDownloading nvidia_cuda_runtime_cu12-12.4.127-py3-none-manylinux2014_x86_64.whl (883 kB)\n",
            "\u001b[2K   \u001b[90m━━━━━━━━━━━━━━━━━━━━━━━━━━━━━━━━━━━━━━━━\u001b[0m \u001b[32m883.7/883.7 kB\u001b[0m \u001b[31m55.8 MB/s\u001b[0m eta \u001b[36m0:00:00\u001b[0m\n",
            "\u001b[?25hDownloading nvidia_cudnn_cu12-9.1.0.70-py3-none-manylinux2014_x86_64.whl (664.8 MB)\n",
            "\u001b[2K   \u001b[90m━━━━━━━━━━━━━━━━━━━━━━━━━━━━━━━━━━━━━━━━\u001b[0m \u001b[32m664.8/664.8 MB\u001b[0m \u001b[31m2.1 MB/s\u001b[0m eta \u001b[36m0:00:00\u001b[0m\n",
            "\u001b[?25hDownloading nvidia_cufft_cu12-11.2.1.3-py3-none-manylinux2014_x86_64.whl (211.5 MB)\n",
            "\u001b[2K   \u001b[90m━━━━━━━━━━━━━━━━━━━━━━━━━━━━━━━━━━━━━━━━\u001b[0m \u001b[32m211.5/211.5 MB\u001b[0m \u001b[31m5.4 MB/s\u001b[0m eta \u001b[36m0:00:00\u001b[0m\n",
            "\u001b[?25hDownloading nvidia_curand_cu12-10.3.5.147-py3-none-manylinux2014_x86_64.whl (56.3 MB)\n",
            "\u001b[2K   \u001b[90m━━━━━━━━━━━━━━━━━━━━━━━━━━━━━━━━━━━━━━━━\u001b[0m \u001b[32m56.3/56.3 MB\u001b[0m \u001b[31m12.8 MB/s\u001b[0m eta \u001b[36m0:00:00\u001b[0m\n",
            "\u001b[?25hDownloading nvidia_cusolver_cu12-11.6.1.9-py3-none-manylinux2014_x86_64.whl (127.9 MB)\n",
            "\u001b[2K   \u001b[90m━━━━━━━━━━━━━━━━━━━━━━━━━━━━━━━━━━━━━━━━\u001b[0m \u001b[32m127.9/127.9 MB\u001b[0m \u001b[31m6.8 MB/s\u001b[0m eta \u001b[36m0:00:00\u001b[0m\n",
            "\u001b[?25hDownloading nvidia_cusparse_cu12-12.3.1.170-py3-none-manylinux2014_x86_64.whl (207.5 MB)\n",
            "\u001b[2K   \u001b[90m━━━━━━━━━━━━━━━━━━━━━━━━━━━━━━━━━━━━━━━━\u001b[0m \u001b[32m207.5/207.5 MB\u001b[0m \u001b[31m6.0 MB/s\u001b[0m eta \u001b[36m0:00:00\u001b[0m\n",
            "\u001b[?25hDownloading nvidia_nvjitlink_cu12-12.4.127-py3-none-manylinux2014_x86_64.whl (21.1 MB)\n",
            "\u001b[2K   \u001b[90m━━━━━━━━━━━━━━━━━━━━━━━━━━━━━━━━━━━━━━━━\u001b[0m \u001b[32m21.1/21.1 MB\u001b[0m \u001b[31m87.2 MB/s\u001b[0m eta \u001b[36m0:00:00\u001b[0m\n",
            "\u001b[?25hInstalling collected packages: nvidia-nvjitlink-cu12, nvidia-curand-cu12, nvidia-cufft-cu12, nvidia-cuda-runtime-cu12, nvidia-cuda-nvrtc-cu12, nvidia-cuda-cupti-cu12, nvidia-cublas-cu12, nvidia-cusparse-cu12, nvidia-cudnn-cu12, nvidia-cusolver-cu12, stable-baselines3\n",
            "  Attempting uninstall: nvidia-nvjitlink-cu12\n",
            "    Found existing installation: nvidia-nvjitlink-cu12 12.5.82\n",
            "    Uninstalling nvidia-nvjitlink-cu12-12.5.82:\n",
            "      Successfully uninstalled nvidia-nvjitlink-cu12-12.5.82\n",
            "  Attempting uninstall: nvidia-curand-cu12\n",
            "    Found existing installation: nvidia-curand-cu12 10.3.6.82\n",
            "    Uninstalling nvidia-curand-cu12-10.3.6.82:\n",
            "      Successfully uninstalled nvidia-curand-cu12-10.3.6.82\n",
            "  Attempting uninstall: nvidia-cufft-cu12\n",
            "    Found existing installation: nvidia-cufft-cu12 11.2.3.61\n",
            "    Uninstalling nvidia-cufft-cu12-11.2.3.61:\n",
            "      Successfully uninstalled nvidia-cufft-cu12-11.2.3.61\n",
            "  Attempting uninstall: nvidia-cuda-runtime-cu12\n",
            "    Found existing installation: nvidia-cuda-runtime-cu12 12.5.82\n",
            "    Uninstalling nvidia-cuda-runtime-cu12-12.5.82:\n",
            "      Successfully uninstalled nvidia-cuda-runtime-cu12-12.5.82\n",
            "  Attempting uninstall: nvidia-cuda-nvrtc-cu12\n",
            "    Found existing installation: nvidia-cuda-nvrtc-cu12 12.5.82\n",
            "    Uninstalling nvidia-cuda-nvrtc-cu12-12.5.82:\n",
            "      Successfully uninstalled nvidia-cuda-nvrtc-cu12-12.5.82\n",
            "  Attempting uninstall: nvidia-cuda-cupti-cu12\n",
            "    Found existing installation: nvidia-cuda-cupti-cu12 12.5.82\n",
            "    Uninstalling nvidia-cuda-cupti-cu12-12.5.82:\n",
            "      Successfully uninstalled nvidia-cuda-cupti-cu12-12.5.82\n",
            "  Attempting uninstall: nvidia-cublas-cu12\n",
            "    Found existing installation: nvidia-cublas-cu12 12.5.3.2\n",
            "    Uninstalling nvidia-cublas-cu12-12.5.3.2:\n",
            "      Successfully uninstalled nvidia-cublas-cu12-12.5.3.2\n",
            "  Attempting uninstall: nvidia-cusparse-cu12\n",
            "    Found existing installation: nvidia-cusparse-cu12 12.5.1.3\n",
            "    Uninstalling nvidia-cusparse-cu12-12.5.1.3:\n",
            "      Successfully uninstalled nvidia-cusparse-cu12-12.5.1.3\n",
            "  Attempting uninstall: nvidia-cudnn-cu12\n",
            "    Found existing installation: nvidia-cudnn-cu12 9.3.0.75\n",
            "    Uninstalling nvidia-cudnn-cu12-9.3.0.75:\n",
            "      Successfully uninstalled nvidia-cudnn-cu12-9.3.0.75\n",
            "  Attempting uninstall: nvidia-cusolver-cu12\n",
            "    Found existing installation: nvidia-cusolver-cu12 11.6.3.83\n",
            "    Uninstalling nvidia-cusolver-cu12-11.6.3.83:\n",
            "      Successfully uninstalled nvidia-cusolver-cu12-11.6.3.83\n",
            "Successfully installed nvidia-cublas-cu12-12.4.5.8 nvidia-cuda-cupti-cu12-12.4.127 nvidia-cuda-nvrtc-cu12-12.4.127 nvidia-cuda-runtime-cu12-12.4.127 nvidia-cudnn-cu12-9.1.0.70 nvidia-cufft-cu12-11.2.1.3 nvidia-curand-cu12-10.3.5.147 nvidia-cusolver-cu12-11.6.1.9 nvidia-cusparse-cu12-12.3.1.170 nvidia-nvjitlink-cu12-12.4.127 stable-baselines3-2.6.0a1\n"
          ]
        }
      ],
      "source": [
        "!apt-get install ffmpeg freeglut3-dev xvfb  # For visualization\n",
        "!pip install \"stable-baselines3[extra]>=2.0.0a4\""
      ]
    },
    {
      "cell_type": "markdown",
      "metadata": {
        "id": "FtY8FhliLsGm"
      },
      "source": [
        "## Imports"
      ]
    },
    {
      "cell_type": "markdown",
      "metadata": {
        "id": "gcX8hEcaUpR0"
      },
      "source": [
        "Stable-Baselines3 works on environments that follow the [gym interface](https://stable-baselines3.readthedocs.io/en/master/guide/custom_env.html).\n",
        "You can find a list of available environment [here](https://gymnasium.farama.org/environments/classic_control/).\n",
        "\n",
        "Not all algorithms can work with all action spaces, you can find more in this [recap table](https://stable-baselines3.readthedocs.io/en/master/guide/algos.html)"
      ]
    },
    {
      "cell_type": "code",
      "execution_count": 3,
      "metadata": {
        "id": "BIedd7Pz9sOs"
      },
      "outputs": [],
      "source": [
        "import gymnasium as gym\n",
        "import numpy as np"
      ]
    },
    {
      "cell_type": "markdown",
      "metadata": {
        "id": "Ae32CtgzTG3R"
      },
      "source": [
        "The first thing you need to import is the RL model, check the documentation to know what you can use on which problem"
      ]
    },
    {
      "cell_type": "code",
      "execution_count": 4,
      "metadata": {
        "id": "R7tKaBFrTR0a"
      },
      "outputs": [],
      "source": [
        "from stable_baselines3 import PPO"
      ]
    },
    {
      "cell_type": "markdown",
      "metadata": {
        "id": "-0_8OQbOTTNT"
      },
      "source": [
        "The next thing you need to import is the policy class that will be used to create the networks (for the policy/value functions).\n",
        "This step is optional as you can directly use strings in the constructor:\n",
        "\n",
        "```PPO('MlpPolicy', env)``` instead of ```PPO(MlpPolicy, env)```\n",
        "\n",
        "Note that some algorithms like `SAC` have their own `MlpPolicy`, that's why using string for the policy is the recommended option."
      ]
    },
    {
      "cell_type": "code",
      "execution_count": 5,
      "metadata": {
        "id": "ROUJr675TT01"
      },
      "outputs": [],
      "source": [
        "from stable_baselines3.ppo.policies import MlpPolicy"
      ]
    },
    {
      "cell_type": "markdown",
      "metadata": {
        "id": "RapkYvTXL7Cd"
      },
      "source": [
        "## Create the Gym env and instantiate the agent\n",
        "\n",
        "For this example, we will use CartPole environment, a classic control problem.\n",
        "\n",
        "\"A pole is attached by an un-actuated joint to a cart, which moves along a frictionless track. The system is controlled by applying a force of +1 or -1 to the cart. The pendulum starts upright, and the goal is to prevent it from falling over. A reward of +1 is provided for every timestep that the pole remains upright. \"\n",
        "\n",
        "Cartpole environment: [https://gymnasium.farama.org/environments/classic_control/cart_pole/](https://gymnasium.farama.org/environments/classic_control/cart_pole/)\n",
        "\n",
        "![Cartpole](https://cdn-images-1.medium.com/max/1143/1*h4WTQNVIsvMXJTCpXm_TAw.gif)\n",
        "\n",
        "\n",
        "We chose the MlpPolicy because the observation of the CartPole task is a feature vector, not images.\n",
        "\n",
        "The type of action to use (discrete/continuous) will be automatically deduced from the environment action space\n",
        "\n",
        "Here we are using the [Proximal Policy Optimization](https://stable-baselines3.readthedocs.io/en/master/modules/ppo.html) algorithm, which is an Actor-Critic method: it uses a value function to improve the policy gradient descent (by reducing the variance).\n",
        "\n",
        "It combines ideas from [A2C](https://stable-baselines3.readthedocs.io/en/master/modules/a2c.html) (having multiple workers and using an entropy bonus for exploration) and [TRPO](https://stable-baselines.readthedocs.io/en/master/modules/trpo.html) (it uses a trust region to improve stability and avoid catastrophic drops in performance).\n",
        "\n",
        "PPO is an on-policy algorithm, which means that the trajectories used to update the networks must be collected using the latest policy.\n",
        "It is usually less sample efficient than off-policy alorithms like [DQN](https://stable-baselines.readthedocs.io/en/master/modules/dqn.html), [SAC](https://stable-baselines3.readthedocs.io/en/master/modules/sac.html) or [TD3](https://stable-baselines3.readthedocs.io/en/master/modules/td3.html), but is much faster regarding wall-clock time.\n"
      ]
    },
    {
      "cell_type": "code",
      "execution_count": 6,
      "metadata": {
        "colab": {
          "base_uri": "https://localhost:8080/"
        },
        "id": "pUWGZp3i9wyf",
        "outputId": "7892d77e-b5e4-4787-e961-6a0aaf20f471"
      },
      "outputs": [
        {
          "output_type": "stream",
          "name": "stderr",
          "text": [
            "/usr/local/lib/python3.11/dist-packages/stable_baselines3/common/on_policy_algorithm.py:150: UserWarning: You are trying to run PPO on the GPU, but it is primarily intended to run on the CPU when not using a CNN policy (you are using ActorCriticPolicy which should be a MlpPolicy). See https://github.com/DLR-RM/stable-baselines3/issues/1245 for more info. You can pass `device='cpu'` or `export CUDA_VISIBLE_DEVICES=` to force using the CPU.Note: The model will train, but the GPU utilization will be poor and the training might take longer than on CPU.\n",
            "  warnings.warn(\n"
          ]
        }
      ],
      "source": [
        "env = gym.make(\"CartPole-v1\")\n",
        "\n",
        "model = PPO(MlpPolicy, env, verbose=0)"
      ]
    },
    {
      "cell_type": "markdown",
      "metadata": {
        "id": "4efFdrQ7MBvl"
      },
      "source": [
        "We create a helper function to evaluate the agent:"
      ]
    },
    {
      "cell_type": "code",
      "execution_count": 7,
      "metadata": {
        "id": "63M8mSKR-6Zt"
      },
      "outputs": [],
      "source": [
        "from stable_baselines3.common.base_class import BaseAlgorithm\n",
        "\n",
        "\n",
        "def evaluate(\n",
        "    model: BaseAlgorithm,\n",
        "    num_episodes: int = 100,\n",
        "    deterministic: bool = True,\n",
        ") -> float:\n",
        "    \"\"\"\n",
        "    Evaluate an RL agent for `num_episodes`.\n",
        "\n",
        "    :param model: the RL Agent\n",
        "    :param env: the gym Environment\n",
        "    :param num_episodes: number of episodes to evaluate it\n",
        "    :param deterministic: Whether to use deterministic or stochastic actions\n",
        "    :return: Mean reward for the last `num_episodes`\n",
        "    \"\"\"\n",
        "    # This function will only work for a single environment\n",
        "    vec_env = model.get_env()\n",
        "    obs = vec_env.reset()\n",
        "    all_episode_rewards = []\n",
        "    for _ in range(num_episodes):\n",
        "        episode_rewards = []\n",
        "        done = False\n",
        "        # Note: SB3 VecEnv resets automatically:\n",
        "        # https://stable-baselines3.readthedocs.io/en/master/guide/vec_envs.html#vecenv-api-vs-gym-api\n",
        "        # obs = vec_env.reset()\n",
        "        while not done:\n",
        "            # _states are only useful when using LSTM policies\n",
        "            # `deterministic` is to use deterministic actions\n",
        "            action, _states = model.predict(obs, deterministic=deterministic)\n",
        "            # here, action, rewards and dones are arrays\n",
        "            # because we are using vectorized env\n",
        "            obs, reward, done, _info = vec_env.step(action)\n",
        "            episode_rewards.append(reward)\n",
        "\n",
        "        all_episode_rewards.append(sum(episode_rewards))\n",
        "\n",
        "    mean_episode_reward = np.mean(all_episode_rewards)\n",
        "    print(f\"Mean reward: {mean_episode_reward:.2f} - Num episodes: {num_episodes}\")\n",
        "\n",
        "    return mean_episode_reward"
      ]
    },
    {
      "cell_type": "markdown",
      "metadata": {
        "id": "zjEVOIY8NVeK"
      },
      "source": [
        "Let's evaluate the un-trained agent, this should be a random agent."
      ]
    },
    {
      "cell_type": "code",
      "execution_count": 8,
      "metadata": {
        "colab": {
          "base_uri": "https://localhost:8080/"
        },
        "id": "xDHLMA6NFk95",
        "outputId": "14a0f56d-f71c-4446-e6c8-9e0ffc744a7e"
      },
      "outputs": [
        {
          "output_type": "stream",
          "name": "stdout",
          "text": [
            "Mean reward: 61.90 - Num episodes: 100\n"
          ]
        }
      ],
      "source": [
        "# Random Agent, before training\n",
        "mean_reward_before_train = evaluate(model, num_episodes=100, deterministic=True)"
      ]
    },
    {
      "cell_type": "markdown",
      "metadata": {
        "id": "QjjPxrwkYJ2i"
      },
      "source": [
        "Stable-Baselines already provides you with that helper:"
      ]
    },
    {
      "cell_type": "code",
      "execution_count": 9,
      "metadata": {
        "id": "8z6K9YImYJEx"
      },
      "outputs": [],
      "source": [
        "from stable_baselines3.common.evaluation import evaluate_policy"
      ]
    },
    {
      "cell_type": "code",
      "execution_count": 10,
      "metadata": {
        "colab": {
          "base_uri": "https://localhost:8080/"
        },
        "id": "4oPTHjxyZSOL",
        "outputId": "d7bf6ae6-dd11-4111-f6d7-7f5e00679f2a"
      },
      "outputs": [
        {
          "output_type": "stream",
          "name": "stdout",
          "text": [
            "mean_reward: 61.97 +/- 18.57\n"
          ]
        }
      ],
      "source": [
        "mean_reward, std_reward = evaluate_policy(model, env, n_eval_episodes=100, warn=False)\n",
        "\n",
        "print(f\"mean_reward: {mean_reward:.2f} +/- {std_reward:.2f}\")"
      ]
    },
    {
      "cell_type": "markdown",
      "metadata": {
        "id": "r5UoXTZPNdFE"
      },
      "source": [
        "## Train the agent and evaluate it"
      ]
    },
    {
      "cell_type": "code",
      "execution_count": 11,
      "metadata": {
        "colab": {
          "base_uri": "https://localhost:8080/"
        },
        "id": "e4cfSXIB-pTF",
        "outputId": "a591972e-69ca-4608-a90b-b4c401bfa994"
      },
      "outputs": [
        {
          "output_type": "execute_result",
          "data": {
            "text/plain": [
              "<stable_baselines3.ppo.ppo.PPO at 0x7a68ce9cfb90>"
            ]
          },
          "metadata": {},
          "execution_count": 11
        }
      ],
      "source": [
        "# Train the agent for 10000 steps\n",
        "model.learn(total_timesteps=10_000)"
      ]
    },
    {
      "cell_type": "code",
      "execution_count": 12,
      "metadata": {
        "colab": {
          "base_uri": "https://localhost:8080/"
        },
        "id": "ygl_gVmV_QP7",
        "outputId": "0af613e4-1d1e-4ef6-92af-280eafdfdf37"
      },
      "outputs": [
        {
          "output_type": "stream",
          "name": "stderr",
          "text": [
            "/usr/local/lib/python3.11/dist-packages/stable_baselines3/common/evaluation.py:67: UserWarning: Evaluation environment is not wrapped with a ``Monitor`` wrapper. This may result in reporting modified episode lengths and rewards, if other wrappers happen to modify these. Consider wrapping environment first with ``Monitor`` wrapper.\n",
            "  warnings.warn(\n"
          ]
        },
        {
          "output_type": "stream",
          "name": "stdout",
          "text": [
            "mean_reward:386.08 +/- 126.40\n"
          ]
        }
      ],
      "source": [
        "# Evaluate the trained agent\n",
        "mean_reward, std_reward = evaluate_policy(model, env, n_eval_episodes=100)\n",
        "\n",
        "print(f\"mean_reward:{mean_reward:.2f} +/- {std_reward:.2f}\")"
      ]
    },
    {
      "cell_type": "markdown",
      "metadata": {
        "id": "A00W6yY3NkHG"
      },
      "source": [
        "Apparently the training went well, the mean reward increased a lot !"
      ]
    },
    {
      "cell_type": "markdown",
      "metadata": {
        "id": "xVm9QPNVwKXN"
      },
      "source": [
        "### Prepare video recording"
      ]
    },
    {
      "cell_type": "code",
      "execution_count": 13,
      "metadata": {
        "id": "MPyfQxD5z26J"
      },
      "outputs": [],
      "source": [
        "# Set up fake display; otherwise rendering will fail\n",
        "import os\n",
        "os.system(\"Xvfb :1 -screen 0 1024x768x24 &\")\n",
        "os.environ['DISPLAY'] = ':1'"
      ]
    },
    {
      "cell_type": "code",
      "execution_count": 14,
      "metadata": {
        "id": "SLzXxO8VMD6N"
      },
      "outputs": [],
      "source": [
        "import base64\n",
        "from pathlib import Path\n",
        "\n",
        "from IPython import display as ipythondisplay\n",
        "\n",
        "\n",
        "def show_videos(video_path=\"\", prefix=\"\"):\n",
        "    \"\"\"\n",
        "    Taken from https://github.com/eleurent/highway-env\n",
        "\n",
        "    :param video_path: (str) Path to the folder containing videos\n",
        "    :param prefix: (str) Filter the video, showing only the only starting with this prefix\n",
        "    \"\"\"\n",
        "    html = []\n",
        "    for mp4 in Path(video_path).glob(\"{}*.mp4\".format(prefix)):\n",
        "        video_b64 = base64.b64encode(mp4.read_bytes())\n",
        "        html.append(\n",
        "            \"\"\"<video alt=\"{}\" autoplay\n",
        "                    loop controls style=\"height: 400px;\">\n",
        "                    <source src=\"data:video/mp4;base64,{}\" type=\"video/mp4\" />\n",
        "                </video>\"\"\".format(\n",
        "                mp4, video_b64.decode(\"ascii\")\n",
        "            )\n",
        "        )\n",
        "    ipythondisplay.display(ipythondisplay.HTML(data=\"<br>\".join(html)))"
      ]
    },
    {
      "cell_type": "markdown",
      "metadata": {
        "id": "LTRNUfulOGaF"
      },
      "source": [
        "We will record a video using the [VecVideoRecorder](https://stable-baselines3.readthedocs.io/en/master/guide/vec_envs.html#vecvideorecorder) wrapper, you will learn about those wrapper in the next notebook."
      ]
    },
    {
      "cell_type": "code",
      "execution_count": 15,
      "metadata": {
        "id": "Trag9dQpOIhx"
      },
      "outputs": [],
      "source": [
        "from stable_baselines3.common.vec_env import VecVideoRecorder, DummyVecEnv\n",
        "\n",
        "\n",
        "def record_video(env_id, model, video_length=500, prefix=\"\", video_folder=\"videos/\"):\n",
        "    \"\"\"\n",
        "    :param env_id: (str)\n",
        "    :param model: (RL model)\n",
        "    :param video_length: (int)\n",
        "    :param prefix: (str)\n",
        "    :param video_folder: (str)\n",
        "    \"\"\"\n",
        "    eval_env = DummyVecEnv([lambda: gym.make(env_id, render_mode=\"rgb_array\")])\n",
        "    # Start the video at step=0 and record 500 steps\n",
        "    eval_env = VecVideoRecorder(\n",
        "        eval_env,\n",
        "        video_folder=video_folder,\n",
        "        record_video_trigger=lambda step: step == 0,\n",
        "        video_length=video_length,\n",
        "        name_prefix=prefix,\n",
        "    )\n",
        "\n",
        "    obs = eval_env.reset()\n",
        "    for _ in range(video_length):\n",
        "        action, _ = model.predict(obs)\n",
        "        obs, _, _, _ = eval_env.step(action)\n",
        "\n",
        "    # Close the video recorder\n",
        "    eval_env.close()"
      ]
    },
    {
      "cell_type": "markdown",
      "metadata": {
        "id": "KOObbeu5MMlR"
      },
      "source": [
        "### Visualize trained agent\n",
        "\n"
      ]
    },
    {
      "cell_type": "code",
      "execution_count": 16,
      "metadata": {
        "colab": {
          "base_uri": "https://localhost:8080/"
        },
        "id": "iATu7AiyMQW2",
        "outputId": "2045a441-b00f-4550-cff8-d32fdf262d3a"
      },
      "outputs": [
        {
          "output_type": "stream",
          "name": "stderr",
          "text": [
            "/usr/local/lib/python3.11/dist-packages/pygame/pkgdata.py:25: DeprecationWarning: pkg_resources is deprecated as an API. See https://setuptools.pypa.io/en/latest/pkg_resources.html\n",
            "  from pkg_resources import resource_stream, resource_exists\n",
            "/usr/local/lib/python3.11/dist-packages/pkg_resources/__init__.py:3154: DeprecationWarning: Deprecated call to `pkg_resources.declare_namespace('google')`.\n",
            "Implementing implicit namespace packages (as specified in PEP 420) is preferred to `pkg_resources.declare_namespace`. See https://setuptools.pypa.io/en/latest/references/keywords.html#keyword-namespace-packages\n",
            "  declare_namespace(pkg)\n",
            "/usr/local/lib/python3.11/dist-packages/pkg_resources/__init__.py:3154: DeprecationWarning: Deprecated call to `pkg_resources.declare_namespace('google.cloud')`.\n",
            "Implementing implicit namespace packages (as specified in PEP 420) is preferred to `pkg_resources.declare_namespace`. See https://setuptools.pypa.io/en/latest/references/keywords.html#keyword-namespace-packages\n",
            "  declare_namespace(pkg)\n",
            "/usr/local/lib/python3.11/dist-packages/pkg_resources/__init__.py:3154: DeprecationWarning: Deprecated call to `pkg_resources.declare_namespace('sphinxcontrib')`.\n",
            "Implementing implicit namespace packages (as specified in PEP 420) is preferred to `pkg_resources.declare_namespace`. See https://setuptools.pypa.io/en/latest/references/keywords.html#keyword-namespace-packages\n",
            "  declare_namespace(pkg)\n"
          ]
        },
        {
          "output_type": "stream",
          "name": "stdout",
          "text": [
            "Saving video to /content/videos/ppo-cartpole-step-0-to-step-500.mp4\n"
          ]
        },
        {
          "output_type": "stream",
          "name": "stderr",
          "text": [
            "/usr/local/lib/python3.11/dist-packages/moviepy/config_defaults.py:1: DeprecationWarning: invalid escape sequence '\\P'\n",
            "  \"\"\"\n"
          ]
        },
        {
          "output_type": "stream",
          "name": "stdout",
          "text": [
            "Moviepy - Building video /content/videos/ppo-cartpole-step-0-to-step-500.mp4.\n",
            "Moviepy - Writing video /content/videos/ppo-cartpole-step-0-to-step-500.mp4\n",
            "\n"
          ]
        },
        {
          "output_type": "stream",
          "name": "stderr",
          "text": []
        },
        {
          "output_type": "stream",
          "name": "stdout",
          "text": [
            "Moviepy - Done !\n",
            "Moviepy - video ready /content/videos/ppo-cartpole-step-0-to-step-500.mp4\n"
          ]
        }
      ],
      "source": [
        "record_video(\"CartPole-v1\", model, video_length=500, prefix=\"ppo-cartpole\")"
      ]
    },
    {
      "cell_type": "code",
      "execution_count": 17,
      "metadata": {
        "colab": {
          "base_uri": "https://localhost:8080/",
          "height": 422
        },
        "id": "-n4i-fW3NojZ",
        "outputId": "1c8c3640-bf3c-4b7a-af2e-b1d0cac37693"
      },
      "outputs": [
        {
          "output_type": "display_data",
          "data": {
            "text/plain": [
              "<IPython.core.display.HTML object>"
            ],
            "text/html": [
              "<video alt=\"videos/ppo-cartpole-step-0-to-step-500.mp4\" autoplay \n",
              "                    loop controls style=\"height: 400px;\">\n",
              "                    <source src=\"data:video/mp4;base64,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\" type=\"video/mp4\" />\n",
              "                </video>"
            ]
          },
          "metadata": {}
        }
      ],
      "source": [
        "show_videos(\"videos\", prefix=\"ppo\")"
      ]
    },
    {
      "cell_type": "markdown",
      "metadata": {
        "id": "9Y8zg4V566qD"
      },
      "source": [
        "## Bonus: Train a RL Model in One Line\n",
        "\n",
        "The policy class to use will be inferred and the environment will be automatically created. This works because both are [registered](https://stable-baselines3.readthedocs.io/en/master/guide/quickstart.html)."
      ]
    },
    {
      "cell_type": "code",
      "execution_count": 18,
      "metadata": {
        "colab": {
          "base_uri": "https://localhost:8080/"
        },
        "id": "iaOPfOrwWEP4",
        "outputId": "0b6f0d08-d5e6-49ac-9eb5-8b63270e40c5"
      },
      "outputs": [
        {
          "output_type": "stream",
          "name": "stdout",
          "text": [
            "Using cuda device\n",
            "Creating environment from the given name 'CartPole-v1'\n",
            "Wrapping the env with a `Monitor` wrapper\n",
            "Wrapping the env in a DummyVecEnv.\n"
          ]
        },
        {
          "output_type": "stream",
          "name": "stderr",
          "text": [
            "/usr/local/lib/python3.11/dist-packages/stable_baselines3/common/on_policy_algorithm.py:150: UserWarning: You are trying to run PPO on the GPU, but it is primarily intended to run on the CPU when not using a CNN policy (you are using ActorCriticPolicy which should be a MlpPolicy). See https://github.com/DLR-RM/stable-baselines3/issues/1245 for more info. You can pass `device='cpu'` or `export CUDA_VISIBLE_DEVICES=` to force using the CPU.Note: The model will train, but the GPU utilization will be poor and the training might take longer than on CPU.\n",
            "  warnings.warn(\n"
          ]
        },
        {
          "output_type": "stream",
          "name": "stdout",
          "text": [
            "---------------------------------\n",
            "| rollout/           |          |\n",
            "|    ep_len_mean     | 22.2     |\n",
            "|    ep_rew_mean     | 22.2     |\n",
            "| time/              |          |\n",
            "|    fps             | 691      |\n",
            "|    iterations      | 1        |\n",
            "|    time_elapsed    | 2        |\n",
            "|    total_timesteps | 2048     |\n",
            "---------------------------------\n"
          ]
        }
      ],
      "source": [
        "model = PPO('MlpPolicy', \"CartPole-v1\", verbose=1).learn(1000)"
      ]
    },
    {
      "cell_type": "markdown",
      "metadata": {
        "id": "FrI6f5fWnzp-"
      },
      "source": [
        "## Conclusion\n",
        "\n",
        "In this notebook we have seen:\n",
        "- how to define and train a RL model using stable baselines3, it takes only one line of code ;)"
      ]
    },
    {
      "cell_type": "code",
      "execution_count": null,
      "metadata": {
        "id": "73ji3gbNDkf7"
      },
      "outputs": [],
      "source": []
    }
  ],
  "metadata": {
    "accelerator": "GPU",
    "colab": {
      "name": "1_getting_started.ipynb",
      "provenance": [],
      "include_colab_link": true
    },
    "kernelspec": {
      "display_name": "Python 3 (ipykernel)",
      "language": "python",
      "name": "python3"
    },
    "language_info": {
      "codemirror_mode": {
        "name": "ipython",
        "version": 3
      },
      "file_extension": ".py",
      "mimetype": "text/x-python",
      "name": "python",
      "nbconvert_exporter": "python",
      "pygments_lexer": "ipython3",
      "version": "3.10.9"
    }
  },
  "nbformat": 4,
  "nbformat_minor": 0
}